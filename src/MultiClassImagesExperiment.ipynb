{
 "cells": [
  {
   "cell_type": "code",
   "execution_count": 455,
   "metadata": {},
   "outputs": [
    {
     "name": "stdout",
     "output_type": "stream",
     "text": [
      "The autoreload extension is already loaded. To reload it, use:\n",
      "  %reload_ext autoreload\n"
     ]
    }
   ],
   "source": [
    "%load_ext autoreload\n",
    "%autoreload 2"
   ]
  },
  {
   "cell_type": "code",
   "execution_count": 533,
   "metadata": {},
   "outputs": [],
   "source": [
    "import numpy as np\n",
    "import pylamp.utils.functions as fn\n",
    "import matplotlib.pyplot as plt\n",
    "from pylamp.loss.losses import CrossEntropyLoss\n",
    "from pylamp.neural.sequential import Sequential\n",
    "from pylamp.neural.layers import Linear, Conv1D, MaxPool1D, Flatten\n",
    "from pylamp.optim.optimizer import Optim\n",
    "from pylamp.neural.activations import ReLU,Softmax\n",
    "from sklearn.discriminant_analysis import StandardScaler\n",
    "from sklearn.preprocessing import MinMaxScaler\n",
    "import cv2\n",
    "from sklearn.metrics import accuracy_score\n",
    "from pylamp.optim.optimizer import SGD\n",
    "from pylamp.utils.usps import load_usps\n",
    "from pylamp.utils.plotter import Display\n",
    "import pandas as pd"
   ]
  },
  {
   "cell_type": "code",
   "execution_count": 534,
   "metadata": {},
   "outputs": [],
   "source": [
    "X_train = pd.read_csv(\"./data/ArabicChars/csvTrainImages.csv\").values\n",
    "X_test = pd.read_csv(\"./data/ArabicChars/csvTestImages.csv\").values"
   ]
  },
  {
   "cell_type": "code",
   "execution_count": 535,
   "metadata": {},
   "outputs": [
    {
     "data": {
      "text/plain": [
       "((13439, 1024), (3359, 1024))"
      ]
     },
     "execution_count": 535,
     "metadata": {},
     "output_type": "execute_result"
    }
   ],
   "source": [
    "X_train.shape, X_test.shape"
   ]
  },
  {
   "cell_type": "code",
   "execution_count": 536,
   "metadata": {},
   "outputs": [],
   "source": [
    "X_train = X_train.reshape(len(X_train),32, 32)\n",
    "X_test = X_test.reshape(len(X_test),32, 32)"
   ]
  },
  {
   "cell_type": "code",
   "execution_count": 537,
   "metadata": {},
   "outputs": [
    {
     "data": {
      "text/plain": [
       "((13439, 32, 32), (3359, 32, 32))"
      ]
     },
     "execution_count": 537,
     "metadata": {},
     "output_type": "execute_result"
    }
   ],
   "source": [
    "X_train.shape, X_test.shape"
   ]
  },
  {
   "cell_type": "code",
   "execution_count": 538,
   "metadata": {},
   "outputs": [],
   "source": [
    "# Initialize an empty array to store resized images\n",
    "resized_array = np.empty((len(X_train), 16, 16))\n",
    "\n",
    "# Resize each image in the array from 32x32 to 16x16\n",
    "for i in range(len(X_train)):\n",
    "    resized_array[i] = cv2.resize(np.uint8(X_train[i]), (16, 16))\n",
    "\n",
    "X_train = resized_array\n",
    "resized_array = np.empty((len(X_test), 16, 16))\n",
    "\n",
    "# Resize each image in the array from 32x32 to 16x16\n",
    "for i in range(len(X_test)):\n",
    "    resized_array[i] = cv2.resize(np.uint8(X_test[i]), (16, 16))\n",
    "\n",
    "X_test = resized_array"
   ]
  },
  {
   "cell_type": "code",
   "execution_count": 539,
   "metadata": {},
   "outputs": [
    {
     "data": {
      "text/plain": [
       "((13439, 16, 16), (3359, 16, 16))"
      ]
     },
     "execution_count": 539,
     "metadata": {},
     "output_type": "execute_result"
    }
   ],
   "source": [
    "X_train.shape, X_test.shape"
   ]
  },
  {
   "cell_type": "code",
   "execution_count": 540,
   "metadata": {},
   "outputs": [],
   "source": [
    "X_train = X_train.reshape((len(X_train),-1)) \n",
    "X_test = X_test.reshape((len(X_test),-1)) "
   ]
  },
  {
   "cell_type": "code",
   "execution_count": 541,
   "metadata": {},
   "outputs": [
    {
     "data": {
      "text/plain": [
       "((13439, 256), (3359, 256))"
      ]
     },
     "execution_count": 541,
     "metadata": {},
     "output_type": "execute_result"
    }
   ],
   "source": [
    "X_train.shape, X_test.shape"
   ]
  },
  {
   "cell_type": "code",
   "execution_count": 542,
   "metadata": {},
   "outputs": [],
   "source": [
    "# features scaling\n",
    "# scaler = MinMaxScaler() \n",
    "\n",
    "\n",
    "scaler = StandardScaler() \n",
    "X_train = scaler.fit_transform(X_train)\n",
    "X_test= scaler.transform(X_test)"
   ]
  },
  {
   "cell_type": "code",
   "execution_count": 543,
   "metadata": {},
   "outputs": [],
   "source": [
    "y_train = pd.read_csv(\"./data/ArabicChars/csvTrainLabel.csv\")\n",
    "y_test = pd.read_csv(\"./data/ArabicChars/csvTestLabel.csv\")"
   ]
  },
  {
   "cell_type": "code",
   "execution_count": 544,
   "metadata": {},
   "outputs": [],
   "source": [
    "y_test = y_test[\"1\"].astype(str).str.zfill(2)\n",
    "y_test = pd.get_dummies(y_test, prefix='').astype(int).values\n",
    "\n",
    "y_train = y_train[\"1\"].astype(str).str.zfill(2)\n",
    "y_train = pd.get_dummies(y_train, prefix='').astype(int).values"
   ]
  },
  {
   "cell_type": "code",
   "execution_count": 545,
   "metadata": {},
   "outputs": [],
   "source": [
    "arabic_alphabet = {\n",
    "    1: 'ا',  # Alif\n",
    "    2: 'ب',  # Ba\n",
    "    3: 'ت',  # Ta\n",
    "    4: 'ث',  # Tha\n",
    "    5: 'ج',  # Jeem\n",
    "    6: 'ح',  # Haa\n",
    "    7: 'خ',  # Khaa\n",
    "    8: 'د',  # Dal\n",
    "    9: 'ذ',  # Dhal\n",
    "    10: 'ر',  # Ra\n",
    "    11: 'ز',  # Zay\n",
    "    12: 'س',  # Seen\n",
    "    13: 'ش',  # Sheen\n",
    "    14: 'ص',  # Saad\n",
    "    15: 'ض',  # Daad\n",
    "    16: 'ط',  # Taa\n",
    "    17: 'ظ',  # Zaa\n",
    "    18: 'ع',  # Ain\n",
    "    19: 'غ',  # Ghain\n",
    "    20: 'ف',  # Fa\n",
    "    21: 'ق',  # Qaf\n",
    "    22: 'ك',  # Kaf\n",
    "    23: 'ل',  # Lam\n",
    "    24: 'م',  # Meem\n",
    "    25: 'ن',  # Noon\n",
    "    26: 'ه',  # Ha\n",
    "    27: 'و',  # Waw\n",
    "    28: 'ي'   # Ya\n",
    "}"
   ]
  },
  {
   "cell_type": "code",
   "execution_count": 546,
   "metadata": {},
   "outputs": [
    {
     "data": {
      "image/png": "[encoded data removed]",
      "text/plain": [
       "<Figure size 640x480 with 2 Axes>"
      ]
     },
     "metadata": {},
     "output_type": "display_data"
    }
   ],
   "source": [
    "index = np.random.randint(len(X_train))\n",
    "image = X_train[index]\n",
    "label = arabic_alphabet[np.argmax(y_train[index])+1]\n",
    "\n",
    "Display().plot_arabic(image, label)"
   ]
  },
  {
   "cell_type": "markdown",
   "metadata": {},
   "source": [
    "# model linear"
   ]
  },
  {
   "cell_type": "code",
   "execution_count": 519,
   "metadata": {},
   "outputs": [
    {
     "name": "stdout",
     "output_type": "stream",
     "text": [
      "Epoch 1/100, Average Loss: 3.3299527776389786\n",
      "Epoch 11/100, Average Loss: 3.255424011069059\n",
      "Epoch 21/100, Average Loss: 3.2413153161437767\n",
      "Epoch 31/100, Average Loss: 3.236041224033975\n",
      "Epoch 41/100, Average Loss: 3.2332522880717587\n",
      "Epoch 51/100, Average Loss: 3.2308249037519303\n",
      "Epoch 61/100, Average Loss: 3.229352522046102\n",
      "Epoch 71/100, Average Loss: 3.2283209894726355\n",
      "Epoch 81/100, Average Loss: 3.2280011302526286\n",
      "Epoch 91/100, Average Loss: 3.226298761595927\n",
      "Training finished.\n"
     ]
    }
   ],
   "source": [
    "\n",
    "\n",
    "input_size = X_train.shape[1]\n",
    "output_size = y_train.shape[1]\n",
    "\n",
    "# Create a sequential model\n",
    "model = Sequential()\n",
    "\n",
    "# Add modules to the sequential model\n",
    "model.add_module(Linear(input_size=input_size, output_size=output_size)) \n",
    "model.add_module(Softmax())\n",
    "\n",
    "loss_func = CrossEntropyLoss()\n",
    "optimizer = Optim(model,loss_func,1e-2)\n",
    "batch_size = 128\n",
    "epochs = 100\n",
    "losses = SGD(optimizer,X_train, y_train, batch_size,epochs,verbose=True)"
   ]
  },
  {
   "cell_type": "code",
   "execution_count": 520,
   "metadata": {},
   "outputs": [
    {
     "data": {
      "image/png": "[encoded data removed]",
      "text/plain": [
       "<Figure size 640x480 with 1 Axes>"
      ]
     },
     "metadata": {},
     "output_type": "display_data"
    }
   ],
   "source": [
    "Display().plot_loss(losses)"
   ]
  },
  {
   "cell_type": "code",
   "execution_count": 521,
   "metadata": {},
   "outputs": [],
   "source": [
    "y_true = np.argmax(y_test, axis=1)\n",
    "y_pred = np.argmax(model.forward(X_test),axis=1)"
   ]
  },
  {
   "cell_type": "code",
   "execution_count": 522,
   "metadata": {},
   "outputs": [
    {
     "data": {
      "text/plain": [
       "array([ 0, 14, 18, 19, 23, 25], dtype=int64)"
      ]
     },
     "execution_count": 522,
     "metadata": {},
     "output_type": "execute_result"
    }
   ],
   "source": [
    "np.unique(y_pred)"
   ]
  },
  {
   "cell_type": "code",
   "execution_count": 523,
   "metadata": {},
   "outputs": [
    {
     "name": "stdout",
     "output_type": "stream",
     "text": [
      "Accuracy: 0.15599880916939565\n"
     ]
    }
   ],
   "source": [
    "print(\"Accuracy:\", accuracy_score(y_true, y_pred))"
   ]
  },
  {
   "cell_type": "code",
   "execution_count": 524,
   "metadata": {},
   "outputs": [
    {
     "data": {
      "image/png": "[encoded data removed]",
      "text/plain": [
       "<Figure size 800x600 with 2 Axes>"
      ]
     },
     "metadata": {},
     "output_type": "display_data"
    }
   ],
   "source": [
    "Display().confusion_matrix(y_true, y_pred, arabic_alphabet.values())"
   ]
  },
  {
   "cell_type": "markdown",
   "metadata": {},
   "source": [
    "# Model Convolution"
   ]
  },
  {
   "cell_type": "markdown",
   "metadata": {},
   "source": [
    "net = Sequential(\n",
    "    Conv1D(3, 1, 32, 1),\n",
    "    ReLU(),\n",
    "    MaxPool1D(2, 2),\n",
    "    Conv1D(3, 32, 32),\n",
    "    ReLU(),\n",
    "    MaxPool1D(2, 2),\n",
    "    Flatten(),\n",
    "    Linear(1984, 10),\n",
    ")"
   ]
  },
  {
   "cell_type": "code",
   "execution_count": 552,
   "metadata": {},
   "outputs": [
    {
     "name": "stdout",
     "output_type": "stream",
     "text": [
      "Epoch 1/10, Average Loss: 2.2955036569683895\n",
      "Epoch 2/10, Average Loss: 1.5763129832384728\n",
      "Epoch 3/10, Average Loss: 1.3058617047491314\n"
     ]
    }
   ],
   "source": [
    "\n",
    "input_size = 256\n",
    "output_size = 28  # Number of classes for classification\n",
    "\n",
    "model = Sequential()\n",
    "\n",
    "# Add modules to the sequential model\n",
    "model.add_module(Conv1D(in_channels=1, out_channels=32, kernel_size=3, strides=1))\n",
    "model.add_module( ReLU())\n",
    "model.add_module(MaxPool1D(kernel_size=2, strides=2))\n",
    "model.add_module(Conv1D(in_channels=32, out_channels=32, kernel_size=3, strides=1))\n",
    "model.add_module( ReLU())\n",
    "model.add_module(MaxPool1D(kernel_size=2, strides=2))\n",
    "model.add_module(Flatten())\n",
    "model.add_module(Linear(1984 , output_size))\n",
    "\n",
    "loss_func = CrossEntropyLoss()\n",
    "optimizer = Optim(model,loss_func,1e-2)\n",
    "batch_size = 64\n",
    "epochs = 10\n",
    "losses = SGD(optimizer,X_train, y_train, batch_size,epochs,add_channel_x=True,verbose=True)"
   ]
  },
  {
   "cell_type": "code",
   "execution_count": null,
   "metadata": {},
   "outputs": [],
   "source": []
  }
 ],
 "metadata": {
  "kernelspec": {
   "display_name": "Python 3",
   "language": "python",
   "name": "python3"
  },
  "language_info": {
   "codemirror_mode": {
    "name": "ipython",
    "version": 3
   },
   "file_extension": ".py",
   "mimetype": "text/x-python",
   "name": "python",
   "nbconvert_exporter": "python",
   "pygments_lexer": "ipython3",
   "version": "3.11.4"
  }
 },
 "nbformat": 4,
 "nbformat_minor": 2
}
