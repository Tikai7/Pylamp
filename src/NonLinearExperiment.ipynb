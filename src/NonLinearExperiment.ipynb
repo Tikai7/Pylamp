{
 "cells": [
  {
   "cell_type": "code",
   "execution_count": null,
   "metadata": {},
   "outputs": [],
   "source": [
    "%load_ext autoreload\n",
    "%autoreload 2"
   ]
  },
  {
   "cell_type": "code",
   "execution_count": null,
   "metadata": {},
   "outputs": [],
   "source": [
    "from pylamp.neural.layers import Linear\n",
    "from pylamp.optim.optimizer import SGD\n",
    "from pylamp.loss.losses import BCELoss\n",
    "from pylamp.utils.data import DataGenerator as dg "
   ]
  },
  {
   "cell_type": "code",
   "execution_count": null,
   "metadata": {},
   "outputs": [],
   "source": [
    "X_train, X_test, y_train, y_test  = dg.generate_2D_data(data_type=0, epsilon=0.5)\n",
    "dg.plot_2D_data(X_train, y_train)"
   ]
  },
  {
   "cell_type": "code",
   "execution_count": null,
   "metadata": {},
   "outputs": [],
   "source": [
    "input_size = X_train.shape[1]\n",
    "output_size = y_train.shape[1]\n",
    "print(f'input_size: {input_size}, output_size: {output_size}')\n",
    "model = Linear(input_size, output_size, use_bias=True)\n",
    "loss = BCELoss()\n",
    "train_loss, val_loss = SGD.step(\n",
    "    model, loss, X_train=X_train, y_train=y_train, \n",
    "    epochs=100, lr=1e-3, batch_size=10, verbose=True,\n",
    ")"
   ]
  },
  {
   "cell_type": "code",
   "execution_count": null,
   "metadata": {},
   "outputs": [],
   "source": [
    "dg.plot_decision_boundary(X_test, y_test, model, \"Boundary of Linear Data\")"
   ]
  }
 ],
 "metadata": {
  "language_info": {
   "name": "python"
  }
 },
 "nbformat": 4,
 "nbformat_minor": 2
}
