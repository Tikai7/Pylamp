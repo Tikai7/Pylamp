{
 "cells": [
  {
   "cell_type": "code",
   "execution_count": 1,
   "metadata": {},
   "outputs": [],
   "source": [
    "%load_ext autoreload\n",
    "%autoreload 2"
   ]
  },
  {
   "cell_type": "markdown",
   "metadata": {},
   "source": [
    "## imports"
   ]
  },
  {
   "cell_type": "code",
   "execution_count": 2,
   "metadata": {},
   "outputs": [],
   "source": [
    "import pandas as pd\n",
    "from sklearn.discriminant_analysis import StandardScaler\n",
    "from sklearn.metrics import r2_score\n",
    "from sklearn.model_selection import train_test_split\n",
    "from pylamp.loss.losses import RMSELoss\n",
    "from pylamp.neural.activations import ReLU\n",
    "from pylamp.neural.layers import Linear\n",
    "from pylamp.neural.sequential import Sequential\n",
    "from pylamp.optim.optimizer import SGD, Optim\n",
    "from pylamp.utils.plotter import Display\n",
    "\n"
   ]
  },
  {
   "cell_type": "markdown",
   "metadata": {},
   "source": [
    "## Loading data\n",
    "\n",
    "You can find the dataset on [kaggle](https://www.kaggle.com/datasets/teertha/ushealthinsurancedataset)"
   ]
  },
  {
   "cell_type": "code",
   "execution_count": 3,
   "metadata": {},
   "outputs": [],
   "source": [
    "# Load the CSV file\n",
    "file_path = './data/healthInsurance/insurance.csv'\n",
    "data = pd.read_csv(file_path)"
   ]
  },
  {
   "cell_type": "code",
   "execution_count": 4,
   "metadata": {},
   "outputs": [
    {
     "data": {
      "text/html": [
       "<div>\n",
       "<style scoped>\n",
       "    .dataframe tbody tr th:only-of-type {\n",
       "        vertical-align: middle;\n",
       "    }\n",
       "\n",
       "    .dataframe tbody tr th {\n",
       "        vertical-align: top;\n",
       "    }\n",
       "\n",
       "    .dataframe thead th {\n",
       "        text-align: right;\n",
       "    }\n",
       "</style>\n",
       "<table border=\"1\" class=\"dataframe\">\n",
       "  <thead>\n",
       "    <tr style=\"text-align: right;\">\n",
       "      <th></th>\n",
       "      <th>age</th>\n",
       "      <th>sex</th>\n",
       "      <th>bmi</th>\n",
       "      <th>children</th>\n",
       "      <th>smoker</th>\n",
       "      <th>region</th>\n",
       "      <th>charges</th>\n",
       "    </tr>\n",
       "  </thead>\n",
       "  <tbody>\n",
       "    <tr>\n",
       "      <th>0</th>\n",
       "      <td>19</td>\n",
       "      <td>female</td>\n",
       "      <td>27.900</td>\n",
       "      <td>0</td>\n",
       "      <td>yes</td>\n",
       "      <td>southwest</td>\n",
       "      <td>16884.92400</td>\n",
       "    </tr>\n",
       "    <tr>\n",
       "      <th>1</th>\n",
       "      <td>18</td>\n",
       "      <td>male</td>\n",
       "      <td>33.770</td>\n",
       "      <td>1</td>\n",
       "      <td>no</td>\n",
       "      <td>southeast</td>\n",
       "      <td>1725.55230</td>\n",
       "    </tr>\n",
       "    <tr>\n",
       "      <th>2</th>\n",
       "      <td>28</td>\n",
       "      <td>male</td>\n",
       "      <td>33.000</td>\n",
       "      <td>3</td>\n",
       "      <td>no</td>\n",
       "      <td>southeast</td>\n",
       "      <td>4449.46200</td>\n",
       "    </tr>\n",
       "    <tr>\n",
       "      <th>3</th>\n",
       "      <td>33</td>\n",
       "      <td>male</td>\n",
       "      <td>22.705</td>\n",
       "      <td>0</td>\n",
       "      <td>no</td>\n",
       "      <td>northwest</td>\n",
       "      <td>21984.47061</td>\n",
       "    </tr>\n",
       "    <tr>\n",
       "      <th>4</th>\n",
       "      <td>32</td>\n",
       "      <td>male</td>\n",
       "      <td>28.880</td>\n",
       "      <td>0</td>\n",
       "      <td>no</td>\n",
       "      <td>northwest</td>\n",
       "      <td>3866.85520</td>\n",
       "    </tr>\n",
       "  </tbody>\n",
       "</table>\n",
       "</div>"
      ],
      "text/plain": [
       "   age     sex     bmi  children smoker     region      charges\n",
       "0   19  female  27.900         0    yes  southwest  16884.92400\n",
       "1   18    male  33.770         1     no  southeast   1725.55230\n",
       "2   28    male  33.000         3     no  southeast   4449.46200\n",
       "3   33    male  22.705         0     no  northwest  21984.47061\n",
       "4   32    male  28.880         0     no  northwest   3866.85520"
      ]
     },
     "execution_count": 4,
     "metadata": {},
     "output_type": "execute_result"
    }
   ],
   "source": [
    "data.head()"
   ]
  },
  {
   "cell_type": "markdown",
   "metadata": {},
   "source": [
    "## Preprocessing data"
   ]
  },
  {
   "cell_type": "code",
   "execution_count": 5,
   "metadata": {},
   "outputs": [
    {
     "name": "stdout",
     "output_type": "stream",
     "text": [
      "X shape: (1338, 8)\n",
      "y shape: (1338, 1)\n"
     ]
    }
   ],
   "source": [
    "# Turn 'sex' feature to numerical: 0 for female, 1 for male\n",
    "data['sex'] = data['sex'].apply(lambda x: 1 if x == 'male' else 0)\n",
    "\n",
    "# Turn 'smoker' feature to numerical: 0 for no, 1 for yes\n",
    "data['smoker'] = data['smoker'].apply(lambda x: 1 if x == 'yes' else 0)\n",
    "\n",
    "# One-hot encode the 'region' feature\n",
    "data = pd.get_dummies(data, columns=['region'], drop_first=True)\n",
    "\n",
    "\n",
    "# Separate features and target\n",
    "X = data.drop('charges', axis=1).values\n",
    "y = data['charges'].values.reshape(-1, 1)\n",
    "\n",
    "# # features scaling\n",
    "scaler = StandardScaler() \n",
    "X = scaler.fit_transform(X)\n",
    "\n",
    "print(f'X shape: {X.shape}')\n",
    "print(f'y shape: {y.shape}')\n"
   ]
  },
  {
   "cell_type": "markdown",
   "metadata": {},
   "source": [
    "## Train Test split"
   ]
  },
  {
   "cell_type": "code",
   "execution_count": 6,
   "metadata": {},
   "outputs": [],
   "source": [
    "X_train, X_test, y_train, y_test = train_test_split(X, y, test_size=0.2, random_state=42)"
   ]
  },
  {
   "cell_type": "markdown",
   "metadata": {},
   "source": [
    "## Building the model"
   ]
  },
  {
   "cell_type": "code",
   "execution_count": 7,
   "metadata": {},
   "outputs": [
    {
     "name": "stdout",
     "output_type": "stream",
     "text": [
      "Epoch 1/1000, Average Loss: 17650.242156032065\n",
      "Epoch 101/1000, Average Loss: 5502.355913083939\n",
      "Epoch 201/1000, Average Loss: 4751.130504525274\n",
      "Epoch 301/1000, Average Loss: 4657.91764582154\n",
      "Epoch 401/1000, Average Loss: 4586.781805206629\n",
      "Epoch 501/1000, Average Loss: 4561.68106192966\n",
      "Epoch 601/1000, Average Loss: 4532.029497173117\n",
      "Epoch 701/1000, Average Loss: 4442.825250955176\n",
      "Epoch 801/1000, Average Loss: 4281.779534776992\n",
      "Epoch 901/1000, Average Loss: 4374.7068408525765\n",
      "Training finished.\n"
     ]
    }
   ],
   "source": [
    "\n",
    "\n",
    "input_size = X_train.shape[1]\n",
    "output_size = y_train.shape[1]\n",
    "\n",
    "# Create a sequential model\n",
    "model = Sequential()\n",
    "\n",
    "# Add modules to the sequential model\n",
    "model.add_module(Linear(input_size=input_size, output_size=8))\n",
    "model.add_module(ReLU())\n",
    "model.add_module(Linear(input_size=8, output_size=16))\n",
    "model.add_module(ReLU())\n",
    "model.add_module(Linear(input_size=16, output_size=output_size))\n",
    "model.add_module(ReLU())\n",
    "\n",
    "loss_func = RMSELoss()\n",
    "optimizer = Optim(model,loss_func,1e-2)\n",
    "batch_size = 32\n",
    "epochs = 1000\n",
    "losses = SGD(optimizer,X_train, y_train, batch_size,epochs,verbose=True)"
   ]
  },
  {
   "cell_type": "code",
   "execution_count": 8,
   "metadata": {},
   "outputs": [
    {
     "data": {
      "image/png": "[encoded data removed]",
      "text/plain": [
       "<Figure size 640x480 with 1 Axes>"
      ]
     },
     "metadata": {},
     "output_type": "display_data"
    }
   ],
   "source": [
    "Display().plot_loss(losses)"
   ]
  },
  {
   "cell_type": "code",
   "execution_count": 9,
   "metadata": {},
   "outputs": [
    {
     "name": "stdout",
     "output_type": "stream",
     "text": [
      "Test RMSE: 4337.087504140929\n",
      "Test R^2: 0.8788374768809487\n"
     ]
    }
   ],
   "source": [
    "# Evaluate the model on the test set\n",
    "y_test_pred = model.forward(X_test)\n",
    "rmse_test = RMSELoss().forward(y_test, y_test_pred)\n",
    "r2_test = r2_score(y_test, y_test_pred)\n",
    "\n",
    "print(f'Test RMSE: {rmse_test}')\n",
    "print(f'Test R^2: {r2_test}')\n"
   ]
  }
 ],
 "metadata": {
  "kernelspec": {
   "display_name": "Python 3",
   "language": "python",
   "name": "python3"
  },
  "language_info": {
   "codemirror_mode": {
    "name": "ipython",
    "version": 3
   },
   "file_extension": ".py",
   "mimetype": "text/x-python",
   "name": "python",
   "nbconvert_exporter": "python",
   "pygments_lexer": "ipython3",
   "version": "3.11.4"
  }
 },
 "nbformat": 4,
 "nbformat_minor": 2
}
