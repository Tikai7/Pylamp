{
 "cells": [
  {
   "cell_type": "code",
   "execution_count": 1,
   "metadata": {},
   "outputs": [],
   "source": [
    "%load_ext autoreload\n",
    "%autoreload 2"
   ]
  },
  {
   "cell_type": "code",
   "execution_count": 45,
   "metadata": {},
   "outputs": [],
   "source": [
    "import numpy as np\n",
    "import pylamp.utils.functions as fn\n",
    "from pylamp.loss.losses import BCELoss,MSELoss, DiceLoss, CombinedDiceBCELoss\n",
    "from matplotlib import pyplot as plt\n",
    "from pylamp.neural.sequential import Sequential\n",
    "from pylamp.neural.layers import Linear, Conv1D, MaxPool1D, Flatten, Upsampling1D\n",
    "from pylamp.optim.optimizer import Optim\n",
    "from pylamp.neural.activations import TanH, Sigmoid, ReLU\n",
    "from pylamp.optim.optimizer import SGD\n",
    "from pylamp.utils.usps import load_usps, show_usps\n",
    "from pylamp.utils.plotter import Display"
   ]
  },
  {
   "cell_type": "markdown",
   "metadata": {},
   "source": [
    "## Loading Data"
   ]
  },
  {
   "cell_type": "code",
   "execution_count": 46,
   "metadata": {},
   "outputs": [],
   "source": [
    "uspsdatatrain = \"./data/USPS/USPS_train.txt\"\n",
    "uspsdatatest = \"./data/USPS/USPS_test.txt\"\n",
    "X_train, y_train = load_usps(uspsdatatrain)\n",
    "X_test, y_test = load_usps(uspsdatatest)"
   ]
  },
  {
   "cell_type": "code",
   "execution_count": 47,
   "metadata": {},
   "outputs": [],
   "source": [
    "# X_train, X_test = fn.normalize_data(X_train, X_test)"
   ]
  },
  {
   "cell_type": "markdown",
   "metadata": {},
   "source": [
    "## Autoencoder on USPS data"
   ]
  },
  {
   "cell_type": "markdown",
   "metadata": {},
   "source": [
    "• Encodage : Linear(256,100) → TanH() → Linear(100,10) → TanH()\n",
    "\n",
    "• Décodage : Linear(10,100) → TanH() → Linear(100,256) → Sigmoide()"
   ]
  },
  {
   "cell_type": "markdown",
   "metadata": {},
   "source": [
    "### One big Sequential"
   ]
  },
  {
   "cell_type": "code",
   "execution_count": 48,
   "metadata": {},
   "outputs": [
    {
     "name": "stdout",
     "output_type": "stream",
     "text": [
      "Epoch 1/300, Average Loss: 1.0775745095012677\n",
      "Epoch 31/300, Average Loss: -0.956055462395946\n",
      "Epoch 61/300, Average Loss: -1.4966988034333424\n",
      "Epoch 91/300, Average Loss: -1.777697560077675\n",
      "Epoch 121/300, Average Loss: -1.986725265447311\n",
      "Epoch 151/300, Average Loss: -2.1565517907875287\n",
      "Epoch 181/300, Average Loss: -2.2918139569860876\n",
      "Epoch 211/300, Average Loss: -2.405218080136567\n",
      "Epoch 241/300, Average Loss: -2.487208743299414\n",
      "Epoch 271/300, Average Loss: -2.5515288924550044\n",
      "Training finished.\n"
     ]
    }
   ],
   "source": [
    "autoencoder_linear = Sequential()\n",
    "autoencoder_linear.add_module(Linear(256,100))\n",
    "autoencoder_linear.add_module(TanH())\n",
    "autoencoder_linear.add_module(Linear(100,10))\n",
    "autoencoder_linear.add_module(TanH())\n",
    "autoencoder_linear.add_module(Linear(10,100))\n",
    "autoencoder_linear.add_module(TanH())\n",
    "autoencoder_linear.add_module(Linear(100,256))\n",
    "autoencoder_linear.add_module(Sigmoid())\n",
    "\n",
    "\n",
    "loss = CombinedDiceBCELoss()\n",
    "optimizer_autoencoder = Optim(autoencoder_linear,loss,1e-3)\n",
    "autoencoder_losses = SGD(optimizer_autoencoder,X_train, X_train, batch_size=64,epochs=300,verbose=True)"
   ]
  },
  {
   "cell_type": "code",
   "execution_count": 49,
   "metadata": {},
   "outputs": [
    {
     "name": "stdout",
     "output_type": "stream",
     "text": [
      "Original VS AutoEncoder output:\n"
     ]
    },
    {
     "data": {
      "image/png": "[encoded data removed]",
      "text/plain": [
       "<Figure size 1000x500 with 2 Axes>"
      ]
     },
     "metadata": {},
     "output_type": "display_data"
    }
   ],
   "source": [
    "testing = np.array([X_test[100]])\n",
    "testing_pred = autoencoder_linear.forward(testing)\n",
    "print(\"Original VS AutoEncoder output:\")\n",
    "Display.compare_images(testing,testing_pred,shape=(16,16),fig_size=(10,5))"
   ]
  },
  {
   "cell_type": "markdown",
   "metadata": {},
   "source": [
    "### Seperating encoder and decoder into two sequentials"
   ]
  },
  {
   "cell_type": "code",
   "execution_count": 22,
   "metadata": {},
   "outputs": [
    {
     "name": "stdout",
     "output_type": "stream",
     "text": [
      "Epoch 1/20, Average Loss: 0.36874527276210445\n",
      "Epoch 3/20, Average Loss: -0.30118728046624293\n",
      "Epoch 5/20, Average Loss: -0.8242415174261223\n",
      "Epoch 7/20, Average Loss: -1.4523841854507058\n",
      "Epoch 9/20, Average Loss: -2.188350052049418\n",
      "Epoch 11/20, Average Loss: -2.604809101716259\n",
      "Epoch 13/20, Average Loss: -2.7788776777576794\n",
      "Epoch 15/20, Average Loss: -2.852824361932296\n",
      "Epoch 17/20, Average Loss: -2.8520735555956445\n",
      "Epoch 19/20, Average Loss: -2.7279868525572533\n",
      "Training finished.\n"
     ]
    }
   ],
   "source": [
    "# Define the autoencoder\n",
    "autoencoder_conv = Sequential()\n",
    "\n",
    "# Define the encoder\n",
    "autoencoder_conv.add_module(Conv1D(kernel_size=3, in_channels=1, out_channels=32, strides=1, padding='same'))\n",
    "autoencoder_conv.add_module(MaxPool1D(kernel_size=2, strides=2))\n",
    "autoencoder_conv.add_module(TanH())\n",
    "autoencoder_conv.add_module(Conv1D(kernel_size=3, in_channels=32, out_channels=16, strides=1, padding='same'))\n",
    "autoencoder_conv.add_module(MaxPool1D(kernel_size=2, strides=2))\n",
    "autoencoder_conv.add_module(TanH())\n",
    "\n",
    "# Define the decoder\n",
    "autoencoder_conv.add_module(Upsampling1D(size=2))\n",
    "autoencoder_conv.add_module(Conv1D(kernel_size=3, in_channels=16, out_channels=32, strides=1, padding='same'))\n",
    "autoencoder_conv.add_module(TanH())\n",
    "autoencoder_conv.add_module(Upsampling1D(size=2))\n",
    "autoencoder_conv.add_module(Conv1D(kernel_size=3, in_channels=32, out_channels=1, strides=1, padding='same'))\n",
    "autoencoder_conv.add_module(Sigmoid())\n",
    "\n",
    "\n",
    "# loss = BCELoss()\n",
    "loss = DiceLoss()\n",
    "optimizer_autoencoder_conv = Optim(autoencoder_conv,loss,1e-3)\n",
    "autoencoder_losses_conv = SGD(optimizer_autoencoder, X_train, X_train, batch_size=64, epochs=20, add_channel_x=True, add_channel_y=True, verbose=True)"
   ]
  },
  {
   "cell_type": "code",
   "execution_count": 29,
   "metadata": {},
   "outputs": [
    {
     "name": "stdout",
     "output_type": "stream",
     "text": [
      "Original VS AutoEncoder output:\n"
     ]
    },
    {
     "data": {
      "image/png": "[encoded data removed]",
      "text/plain": [
       "<Figure size 1000x500 with 2 Axes>"
      ]
     },
     "metadata": {},
     "output_type": "display_data"
    }
   ],
   "source": [
    "testing = np.expand_dims(np.expand_dims(X_test[500],-1),0)\n",
    "decoded = autoencoder.forward(testing)\n",
    "print(\"Original VS AutoEncoder output:\")\n",
    "Display.compare_images(testing,decoded,shape=(16,16),fig_size=(10,5))"
   ]
  },
  {
   "cell_type": "code",
   "execution_count": null,
   "metadata": {},
   "outputs": [],
   "source": []
  }
 ],
 "metadata": {
  "kernelspec": {
   "display_name": "Python 3",
   "language": "python",
   "name": "python3"
  },
  "language_info": {
   "codemirror_mode": {
    "name": "ipython",
    "version": 3
   },
   "file_extension": ".py",
   "mimetype": "text/x-python",
   "name": "python",
   "nbconvert_exporter": "python",
   "pygments_lexer": "ipython3",
   "version": "3.10.10"
  }
 },
 "nbformat": 4,
 "nbformat_minor": 2
}
