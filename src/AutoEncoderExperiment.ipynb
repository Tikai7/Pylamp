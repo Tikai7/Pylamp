{
 "cells": [
  {
   "cell_type": "code",
   "execution_count": 48,
   "metadata": {},
   "outputs": [
    {
     "name": "stdout",
     "output_type": "stream",
     "text": [
      "The autoreload extension is already loaded. To reload it, use:\n",
      "  %reload_ext autoreload\n"
     ]
    }
   ],
   "source": [
    "%load_ext autoreload\n",
    "%autoreload 2"
   ]
  },
  {
   "cell_type": "code",
   "execution_count": 50,
   "metadata": {},
   "outputs": [],
   "source": [
    "import numpy as np\n",
    "from pylamp.loss.losses import BCELoss,MSELoss\n",
    "from matplotlib import pyplot as plt\n",
    "from pylamp.neural.sequential import Sequential\n",
    "from pylamp.neural.layers import Linear\n",
    "from pylamp.optim.optimizer import Optim\n",
    "from pylamp.neural.activations import TanH, Sigmoid\n",
    "from pylamp.optim.optimizer import SGD\n",
    "from pylamp.utils.usps import load_usps, show_usps\n",
    "from pylamp.utils.plotter import Display"
   ]
  },
  {
   "cell_type": "code",
   "execution_count": 3,
   "metadata": {},
   "outputs": [],
   "source": [
    "def plot_loss(losses):\n",
    "    epochs = range(1, len(losses) + 1)\n",
    "    plt.plot(epochs, losses, label='Training Loss')\n",
    "    plt.title('Training Loss Over Epochs')\n",
    "    plt.xlabel('Epoch')\n",
    "    plt.ylabel('Loss')\n",
    "    plt.legend()\n",
    "    plt.show()"
   ]
  },
  {
   "cell_type": "markdown",
   "metadata": {},
   "source": [
    "## Loading Data"
   ]
  },
  {
   "cell_type": "code",
   "execution_count": 4,
   "metadata": {},
   "outputs": [],
   "source": [
    "uspsdatatrain = \"./data/USPS/USPS_train.txt\"\n",
    "uspsdatatest = \"./data/USPS/USPS_test.txt\"\n",
    "X_train, y_train = load_usps(uspsdatatrain)\n",
    "X_test, y_test = load_usps(uspsdatatest)"
   ]
  },
  {
   "cell_type": "markdown",
   "metadata": {},
   "source": [
    "## Autoencoder on USPS data"
   ]
  },
  {
   "cell_type": "markdown",
   "metadata": {},
   "source": [
    "• Encodage : Linear(256,100) → TanH() → Linear(100,10) → TanH()\n",
    "\n",
    "• Décodage : Linear(10,100) → TanH() → Linear(100,256) → Sigmoide()"
   ]
  },
  {
   "cell_type": "markdown",
   "metadata": {},
   "source": [
    "### One big Sequential"
   ]
  },
  {
   "cell_type": "code",
   "execution_count": 5,
   "metadata": {},
   "outputs": [
    {
     "name": "stdout",
     "output_type": "stream",
     "text": [
      "Epoch 1/300, Average Loss: 3.3097863927316853\n",
      "Epoch 31/300, Average Loss: 0.12619720087902703\n",
      "Epoch 61/300, Average Loss: -0.11958039797590488\n",
      "Epoch 91/300, Average Loss: -0.2822743076558864\n",
      "Epoch 121/300, Average Loss: -0.4037766102513674\n",
      "Epoch 151/300, Average Loss: -0.48368474173419646\n",
      "Epoch 181/300, Average Loss: -0.5426012637609938\n",
      "Epoch 211/300, Average Loss: -0.5933937486351754\n",
      "Epoch 241/300, Average Loss: -0.6295879133852883\n",
      "Epoch 271/300, Average Loss: -0.6505841431017408\n",
      "Training finished.\n"
     ]
    }
   ],
   "source": [
    "autoencoder = Sequential()\n",
    "autoencoder.add_module(Linear(256,100))\n",
    "autoencoder.add_module(TanH())\n",
    "autoencoder.add_module(Linear(100,10))\n",
    "autoencoder.add_module(TanH())\n",
    "autoencoder.add_module(Linear(10,100))\n",
    "autoencoder.add_module(TanH())\n",
    "autoencoder.add_module(Linear(100,256))\n",
    "autoencoder.add_module(Sigmoid())\n",
    "\n",
    "\n",
    "loss = BCELoss()\n",
    "optimizer_autoencoder = Optim(autoencoder,loss,1e-3)\n",
    "autoencoder_losses = SGD(optimizer_autoencoder,X_train, X_train, batch_size=256,epochs=300,verbose=True)"
   ]
  },
  {
   "cell_type": "code",
   "execution_count": 53,
   "metadata": {},
   "outputs": [
    {
     "name": "stdout",
     "output_type": "stream",
     "text": [
      "Original VS AutoEncoder output:\n"
     ]
    },
    {
     "data": {
      "image/png": "[encoded data removed]",
      "text/plain": [
       "<Figure size 1000x500 with 2 Axes>"
      ]
     },
     "metadata": {},
     "output_type": "display_data"
    }
   ],
   "source": [
    "testing = np.array([X_test[40]])\n",
    "testing_pred = autoencoder.forward(testing)\n",
    "print(\"Original VS AutoEncoder output:\")\n",
    "Display.compare_images(testing,testing_pred,shape=(16,16),fig_size=(10,5))"
   ]
  },
  {
   "cell_type": "markdown",
   "metadata": {},
   "source": [
    "### Seperating encoder and decoder into two sequentials and MSELoss"
   ]
  },
  {
   "cell_type": "code",
   "execution_count": 13,
   "metadata": {},
   "outputs": [
    {
     "name": "stdout",
     "output_type": "stream",
     "text": [
      "Epoch 1/1000, Average Loss: 0.7851027756363637\n",
      "Epoch 101/1000, Average Loss: 0.564348372619129\n",
      "Epoch 201/1000, Average Loss: 0.5218847204522085\n",
      "Epoch 301/1000, Average Loss: 0.49626708649495205\n",
      "Epoch 401/1000, Average Loss: 0.4797040252944056\n",
      "Epoch 501/1000, Average Loss: 0.46984970855629643\n",
      "Epoch 601/1000, Average Loss: 0.4625028455547086\n",
      "Epoch 701/1000, Average Loss: 0.45562145551227473\n",
      "Epoch 801/1000, Average Loss: 0.4506880490503708\n",
      "Epoch 901/1000, Average Loss: 0.44530385388672433\n",
      "Training finished.\n"
     ]
    }
   ],
   "source": [
    "autoencoder = Sequential()\n",
    "\n",
    "encoder = Sequential()\n",
    "encoder.add_module(Linear(256,100))\n",
    "encoder.add_module(TanH())\n",
    "encoder.add_module(Linear(100,10))\n",
    "encoder.add_module(TanH())\n",
    "\n",
    "decoder = Sequential()\n",
    "decoder.add_module(Linear(10,100))\n",
    "decoder.add_module(TanH())\n",
    "decoder.add_module(Linear(100,256))\n",
    "decoder.add_module(Sigmoid())\n",
    "\n",
    "autoencoder.add_module(encoder)\n",
    "autoencoder.add_module(decoder)\n",
    "\n",
    "loss = MSELoss()\n",
    "optimizer_autoencoder = Optim(autoencoder,loss,1e-3)\n",
    "autoencoder_losses = SGD(optimizer_autoencoder,X_train, X_train, batch_size=256,epochs=1000,verbose=True)"
   ]
  },
  {
   "cell_type": "code",
   "execution_count": 54,
   "metadata": {},
   "outputs": [
    {
     "name": "stdout",
     "output_type": "stream",
     "text": [
      "encoded=array([[ 0.99999735, -1.        ,  1.        ,  1.        , -1.        ,\n",
      "        -1.        , -1.        , -1.        ,  1.        ,  0.9999998 ]])\n",
      "Original VS AutoEncoder output:\n"
     ]
    },
    {
     "data": {
      "image/png": "[encoded data removed]",
      "text/plain": [
       "<Figure size 1000x500 with 2 Axes>"
      ]
     },
     "metadata": {},
     "output_type": "display_data"
    }
   ],
   "source": [
    "testing = np.array([X_test[0]])\n",
    "encoded = encoder.forward(testing)\n",
    "print(f\"{encoded=}\")\n",
    "decoded = decoder.forward(encoded)\n",
    "print(\"Original VS AutoEncoder output:\")\n",
    "Display.compare_images(testing,decoded,shape=(16,16),fig_size=(10,5))"
   ]
  }
 ],
 "metadata": {
  "kernelspec": {
   "display_name": "Python 3",
   "language": "python",
   "name": "python3"
  },
  "language_info": {
   "codemirror_mode": {
    "name": "ipython",
    "version": 3
   },
   "file_extension": ".py",
   "mimetype": "text/x-python",
   "name": "python",
   "nbconvert_exporter": "python",
   "pygments_lexer": "ipython3",
   "version": "3.10.10"
  }
 },
 "nbformat": 4,
 "nbformat_minor": 2
}
