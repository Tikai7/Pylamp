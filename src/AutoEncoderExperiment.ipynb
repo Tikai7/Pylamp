{
 "cells": [
  {
   "cell_type": "code",
   "execution_count": 30,
   "metadata": {},
   "outputs": [
    {
     "name": "stdout",
     "output_type": "stream",
     "text": [
      "The autoreload extension is already loaded. To reload it, use:\n",
      "  %reload_ext autoreload\n"
     ]
    }
   ],
   "source": [
    "%load_ext autoreload\n",
    "%autoreload 2"
   ]
  },
  {
   "cell_type": "code",
   "execution_count": 31,
   "metadata": {},
   "outputs": [],
   "source": [
    "import numpy as np\n",
    "from pylamp.loss.losses import BCELoss,MSELoss\n",
    "from matplotlib import pyplot as plt\n",
    "from pylamp.neural.sequential import Sequential\n",
    "from pylamp.neural.layers import Linear\n",
    "from pylamp.optim.optimizer import Optim\n",
    "from pylamp.neural.activations import TanH, Sigmoid\n",
    "from pylamp.optim.optimizer import SGD\n",
    "from pylamp.utils.usps import load_usps, show_usps\n",
    "from pylamp.utils.plotter import Display"
   ]
  },
  {
   "cell_type": "code",
   "execution_count": 32,
   "metadata": {},
   "outputs": [],
   "source": [
    "def plot_loss(losses):\n",
    "    epochs = range(1, len(losses) + 1)\n",
    "    plt.plot(epochs, losses, label='Training Loss')\n",
    "    plt.title('Training Loss Over Epochs')\n",
    "    plt.xlabel('Epoch')\n",
    "    plt.ylabel('Loss')\n",
    "    plt.legend()\n",
    "    plt.show()"
   ]
  },
  {
   "cell_type": "markdown",
   "metadata": {},
   "source": [
    "## Loading Data"
   ]
  },
  {
   "cell_type": "code",
   "execution_count": 33,
   "metadata": {},
   "outputs": [],
   "source": [
    "uspsdatatrain = \"./data/USPS/USPS_train.txt\"\n",
    "uspsdatatest = \"./data/USPS/USPS_test.txt\"\n",
    "X_train, y_train = load_usps(uspsdatatrain)\n",
    "X_test, y_test = load_usps(uspsdatatest)\n",
    "\n",
    "def normalize_data(X, mean=None, std=None):\n",
    "    if mean is None:\n",
    "        mean = np.mean(X, axis=0)\n",
    "        std = np.std(X, axis=0)\n",
    "    return X - mean / std, mean, std\n",
    "\n",
    "X_train, mean, std = normalize_data(X_train)\n",
    "X_test, _, _ = normalize_data(X_test, mean, std)"
   ]
  },
  {
   "cell_type": "markdown",
   "metadata": {},
   "source": [
    "## Autoencoder on USPS data"
   ]
  },
  {
   "cell_type": "markdown",
   "metadata": {},
   "source": [
    "• Encodage : Linear(256,100) → TanH() → Linear(100,10) → TanH()\n",
    "\n",
    "• Décodage : Linear(10,100) → TanH() → Linear(100,256) → Sigmoide()"
   ]
  },
  {
   "cell_type": "markdown",
   "metadata": {},
   "source": [
    "### One big Sequential"
   ]
  },
  {
   "cell_type": "code",
   "execution_count": 34,
   "metadata": {},
   "outputs": [
    {
     "name": "stdout",
     "output_type": "stream",
     "text": [
      "Epoch 1/300, Average Loss: 3.256002957791492\n",
      "Epoch 31/300, Average Loss: -1.9321596725877037\n",
      "Epoch 61/300, Average Loss: -3.409009702838476\n",
      "Epoch 91/300, Average Loss: -4.112416451815952\n",
      "Epoch 121/300, Average Loss: -4.5555880076972874\n",
      "Epoch 151/300, Average Loss: -4.86553755194206\n",
      "Epoch 181/300, Average Loss: -5.109509240227218\n",
      "Epoch 211/300, Average Loss: -5.290671249510503\n",
      "Epoch 241/300, Average Loss: -5.438619479064656\n",
      "Epoch 271/300, Average Loss: -5.55712235463539\n",
      "Training finished.\n"
     ]
    }
   ],
   "source": [
    "autoencoder = Sequential()\n",
    "autoencoder.add_module(Linear(256,100))\n",
    "autoencoder.add_module(TanH())\n",
    "autoencoder.add_module(Linear(100,10))\n",
    "autoencoder.add_module(TanH())\n",
    "autoencoder.add_module(Linear(10,100))\n",
    "autoencoder.add_module(TanH())\n",
    "autoencoder.add_module(Linear(100,256))\n",
    "autoencoder.add_module(Sigmoid())\n",
    "\n",
    "\n",
    "loss = BCELoss()\n",
    "optimizer_autoencoder = Optim(autoencoder,loss,1e-3)\n",
    "autoencoder_losses = SGD(optimizer_autoencoder,X_train, X_train, batch_size=256,epochs=300,verbose=True)"
   ]
  },
  {
   "cell_type": "code",
   "execution_count": 35,
   "metadata": {},
   "outputs": [
    {
     "ename": "AttributeError",
     "evalue": "'tuple' object has no attribute 'shape'",
     "output_type": "error",
     "traceback": [
      "\u001b[1;31m---------------------------------------------------------------------------\u001b[0m",
      "\u001b[1;31mAttributeError\u001b[0m                            Traceback (most recent call last)",
      "Cell \u001b[1;32mIn[35], line 1\u001b[0m\n\u001b[1;32m----> 1\u001b[0m \u001b[43mX_test\u001b[49m\u001b[38;5;241;43m.\u001b[39;49m\u001b[43mshape\u001b[49m\n",
      "\u001b[1;31mAttributeError\u001b[0m: 'tuple' object has no attribute 'shape'"
     ]
    }
   ],
   "source": [
    "X_test.shape"
   ]
  },
  {
   "cell_type": "code",
   "execution_count": null,
   "metadata": {},
   "outputs": [
    {
     "ename": "IndexError",
     "evalue": "tuple index out of range",
     "output_type": "error",
     "traceback": [
      "\u001b[1;31m---------------------------------------------------------------------------\u001b[0m",
      "\u001b[1;31mIndexError\u001b[0m                                Traceback (most recent call last)",
      "Cell \u001b[1;32mIn[27], line 1\u001b[0m\n\u001b[1;32m----> 1\u001b[0m testing \u001b[38;5;241m=\u001b[39m np\u001b[38;5;241m.\u001b[39marray([\u001b[43mX_test\u001b[49m\u001b[43m[\u001b[49m\u001b[38;5;241;43m40\u001b[39;49m\u001b[43m]\u001b[49m])\n\u001b[0;32m      2\u001b[0m testing_pred \u001b[38;5;241m=\u001b[39m autoencoder\u001b[38;5;241m.\u001b[39mforward(testing)\n\u001b[0;32m      3\u001b[0m \u001b[38;5;28mprint\u001b[39m(\u001b[38;5;124m\"\u001b[39m\u001b[38;5;124mOriginal VS AutoEncoder output:\u001b[39m\u001b[38;5;124m\"\u001b[39m)\n",
      "\u001b[1;31mIndexError\u001b[0m: tuple index out of range"
     ]
    }
   ],
   "source": [
    "testing = np.array([X_test[40]])\n",
    "testing_pred = autoencoder.forward(testing)\n",
    "print(\"Original VS AutoEncoder output:\")\n",
    "Display.compare_images(testing,testing_pred,shape=(16,16),fig_size=(10,5))"
   ]
  },
  {
   "cell_type": "markdown",
   "metadata": {},
   "source": [
    "### Seperating encoder and decoder into two sequentials and MSELoss"
   ]
  },
  {
   "cell_type": "code",
   "execution_count": null,
   "metadata": {},
   "outputs": [
    {
     "name": "stdout",
     "output_type": "stream",
     "text": [
      "Epoch 1/300, Average Loss: 0.45030907414989674\n",
      "Epoch 31/300, Average Loss: 0.29394627606905316\n",
      "Epoch 61/300, Average Loss: 0.26526574075956916\n",
      "Epoch 91/300, Average Loss: 0.24313242404345664\n",
      "Epoch 121/300, Average Loss: 0.23242547940110136\n",
      "Epoch 151/300, Average Loss: 0.2298463620565527\n",
      "Epoch 181/300, Average Loss: 0.22970909608530818\n",
      "Epoch 211/300, Average Loss: 0.229648460392451\n",
      "Epoch 241/300, Average Loss: 0.22961160191973326\n",
      "Epoch 271/300, Average Loss: 0.22958667533369764\n",
      "Training finished.\n"
     ]
    }
   ],
   "source": [
    "autoencoder = Sequential()\n",
    "\n",
    "encoder = Sequential()\n",
    "encoder.add_module(Linear(256,100))\n",
    "encoder.add_module(TanH())\n",
    "encoder.add_module(Linear(100,10))\n",
    "encoder.add_module(TanH())\n",
    "\n",
    "decoder = Sequential()\n",
    "decoder.add_module(Linear(10,100))\n",
    "decoder.add_module(TanH())\n",
    "decoder.add_module(Linear(100,256))\n",
    "decoder.add_module(Sigmoid())\n",
    "\n",
    "autoencoder.add_module(encoder)\n",
    "autoencoder.add_module(decoder)\n",
    "\n",
    "loss = MSELoss()\n",
    "optimizer_autoencoder = Optim(autoencoder,loss,1e-3)\n",
    "autoencoder_losses = SGD(optimizer_autoencoder,X_train, X_train, batch_size=256,epochs=300,verbose=True)"
   ]
  },
  {
   "cell_type": "code",
   "execution_count": null,
   "metadata": {},
   "outputs": [
    {
     "name": "stdout",
     "output_type": "stream",
     "text": [
      "encoded=array([[-0.99999619, -0.99999994,  0.99799173,  1.        , -0.98453447,\n",
      "        -0.99964608, -0.99999997, -0.99990964, -0.9999998 , -0.99999934]])\n",
      "Original VS AutoEncoder output:\n"
     ]
    },
    {
     "data": {
      "image/png": "[encoded data removed]",
      "text/plain": [
       "<Figure size 1000x500 with 2 Axes>"
      ]
     },
     "metadata": {},
     "output_type": "display_data"
    }
   ],
   "source": [
    "testing = np.array([X_test[0]])\n",
    "encoded = encoder.forward(testing)\n",
    "print(f\"{encoded=}\")\n",
    "decoded = decoder.forward(encoded)\n",
    "print(\"Original VS AutoEncoder output:\")\n",
    "Display.compare_images(testing,decoded,shape=(16,16),fig_size=(10,5))"
   ]
  }
 ],
 "metadata": {
  "kernelspec": {
   "display_name": "Python 3",
   "language": "python",
   "name": "python3"
  },
  "language_info": {
   "codemirror_mode": {
    "name": "ipython",
    "version": 3
   },
   "file_extension": ".py",
   "mimetype": "text/x-python",
   "name": "python",
   "nbconvert_exporter": "python",
   "pygments_lexer": "ipython3",
   "version": "3.10.10"
  }
 },
 "nbformat": 4,
 "nbformat_minor": 2
}
